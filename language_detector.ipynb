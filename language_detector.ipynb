{
 "cells": [
  {
   "cell_type": "markdown",
   "metadata": {},
   "source": [
    "# Librarys"
   ]
  },
  {
   "cell_type": "code",
   "execution_count": null,
   "metadata": {},
   "outputs": [],
   "source": [
    "# Importando todas as bibliotecas que serão utilizadas \n",
    "\n",
    "import pandas as pd \n",
    "import re\n",
    "import numpy as np\n",
    "\n",
    "from sklearn.model_selection import train_test_split\n",
    "\n",
    "from nltk.lm import Laplace\n",
    "from nltk.lm.preprocessing import padded_everygram_pipeline\n",
    "from nltk.tokenize import WhitespaceTokenizer\n",
    "from nltk.util import bigrams\n",
    "from nltk.lm.preprocessing import pad_both_ends\n",
    "\n",
    "# Regex's \n",
    "regex_html_01_codes = re.compile(r'<code>(.|\\n)*?</code>')\n",
    "regex_html_02_tags = re.compile(r'<.*?>')\n",
    "regex_html_03_punctuation = re.compile(r'[^\\w\\s]')\n",
    "regex_html_04_numbers = re.compile(r'^\\d+')\n",
    "regex_html_05_linebrokentag = re.compile(r'\\n')\n",
    "regex_html_06_whitespace = re.compile(r' +')\n",
    "\n",
    "# Random State\n",
    "SEED = 59\n",
    "np.random.seed(SEED)\n",
    "\n",
    "# Modelos\n",
    "\n",
    "WhitespaceTokenizer = WhitespaceTokenizer()"
   ]
  },
  {
   "cell_type": "markdown",
   "metadata": {},
   "source": [
    "# Dataframes"
   ]
  },
  {
   "cell_type": "code",
   "execution_count": null,
   "metadata": {},
   "outputs": [],
   "source": [
    "# Importando os dataframes que serão utilizados \n",
    "\n",
    "df_pt = pd.read_csv('G:\\Meu Drive\\My Repositories\\datasets_for_data_science\\databases\\datasets\\\\stackoverflow_portuguese.csv')\n",
    "df_en = pd.read_csv('G:\\Meu Drive\\My Repositories\\datasets_for_data_science\\databases\\datasets\\\\stackoverflow_english.csv')\n",
    "\n",
    "# Alterando os dados do nosso dataframe\n",
    "\n",
    "df_pt['Idioma'] = 'port'\n",
    "df_en['Idioma'] = 'eng'"
   ]
  },
  {
   "cell_type": "markdown",
   "metadata": {},
   "source": [
    "# Regex's"
   ]
  },
  {
   "cell_type": "code",
   "execution_count": null,
   "metadata": {},
   "outputs": [],
   "source": [
    "# Tratando dataframe values\n",
    "\n",
    "def def_values_tratment(data, column):\n",
    "\n",
    "    new_senteces = []   \n",
    "\n",
    "    for c in data[column]:\n",
    "        sentence_string = c\n",
    "        sentence_string = regex_html_01_codes.sub(' ', sentence_string)\n",
    "        sentence_string = regex_html_02_tags.sub(' ', sentence_string)\n",
    "        sentence_string = regex_html_03_punctuation.sub(' ', sentence_string)\n",
    "        sentence_string = regex_html_04_numbers.sub(' ', sentence_string)\n",
    "        sentence_string = regex_html_05_linebrokentag.sub('', sentence_string)\n",
    "        sentence_string = regex_html_06_whitespace.sub(' ', sentence_string)\n",
    "        sentence_string = sentence_string.lower()\n",
    "        new_senteces.append(sentence_string)\n",
    "\n",
    "    data[column + '_Tratamento'] = new_senteces    \n",
    "\n",
    "def_values_tratment(df_pt, 'Questão')\n",
    "def_values_tratment(df_en, 'Questão')"
   ]
  },
  {
   "cell_type": "markdown",
   "metadata": {},
   "source": [
    "# Models"
   ]
  },
  {
   "cell_type": "code",
   "execution_count": null,
   "metadata": {},
   "outputs": [],
   "source": [
    "# Criando o modelo MLE para Português e Inglês\n",
    "\n",
    "def def_modelo_mle_pt_split(x):\n",
    "    global test_pt, train_pt\n",
    "\n",
    "    train_pt, test_pt = train_test_split(x, test_size = 0.2)\n",
    "\n",
    "    train_all_senteces = ' '.join(train_pt)\n",
    "    train_all_words = WhitespaceTokenizer().tokenize(train_all_senteces)\n",
    "    train_bigram, vocabulary_bigramns = padded_everygram_pipeline(2, train_all_words)\n",
    "\n",
    "    modelo = Laplace(2)\n",
    "    modelo.fit(train_bigram, vocabulary_bigramns)\n",
    "    \n",
    "    return modelo\n",
    "\n",
    "def def_modelo_mle_en_split(x):\n",
    "    global test_en, train_en\n",
    "\n",
    "    train_en, test_en = train_test_split(x, test_size = 0.2)\n",
    "\n",
    "    train_all_senteces = ' '.join(train_en)\n",
    "    train_all_words = WhitespaceTokenizer().tokenize(train_all_senteces)\n",
    "    \n",
    "    train_bigram, vocabulary_bigramns = padded_everygram_pipeline(2, train_all_words)\n",
    "\n",
    "    modelo = Laplace(2)\n",
    "    modelo.fit(train_bigram, vocabulary_bigramns)\n",
    "\n",
    "    return modelo\n",
    "\n",
    "model_laplace_pt = def_modelo_mle_pt_split(df_pt.Questão_Tratamento)\n",
    "model_laplace_en = def_modelo_mle_en_split(df_en.Questão_Tratamento)"
   ]
  },
  {
   "cell_type": "markdown",
   "metadata": {},
   "source": [
    "# Perplexity"
   ]
  },
  {
   "cell_type": "code",
   "execution_count": null,
   "metadata": {},
   "outputs": [],
   "source": [
    "def perplexity_counter(model, data):\n",
    "    global words, fake_char, words_bigrams\n",
    "\n",
    "    perplexities = 0\n",
    "    words = WhitespaceTokenizer().tokenize(data)\n",
    "    fake_char = [list(pad_both_ends(c, n = 2)) for c in words]\n",
    "    words_bigrams = [list(bigrams(k)) for k in fake_char]\n",
    "    for word in words_bigrams:\n",
    "        perplexities = model.perplexity(word) + perplexities\n",
    "    \n",
    "    return perplexities"
   ]
  },
  {
   "cell_type": "markdown",
   "metadata": {},
   "source": [
    "# Classifier"
   ]
  },
  {
   "cell_type": "code",
   "execution_count": null,
   "metadata": {},
   "outputs": [],
   "source": [
    "def language_classifier(data):\n",
    "\n",
    "    results = []\n",
    "\n",
    "    if type(data) != str:\n",
    "        for row in data:\n",
    "            return_pt = perplexity_counter(model_laplace_pt, row)\n",
    "            return_en = perplexity_counter(model_laplace_en, row)\n",
    "\n",
    "            if return_pt < return_en:\n",
    "                results.append('Português')\n",
    "            \n",
    "            else:\n",
    "                results.append('English')\n",
    "\n",
    "        df_results = pd.DataFrame(columns = ['Text', 'Predict'], data = list(zip(data, results)))\n",
    "\n",
    "    else:\n",
    "        return_pt = perplexity_counter(model_laplace_pt, data)\n",
    "        return_en = perplexity_counter(model_laplace_en, data)\n",
    "\n",
    "        if return_pt < return_en:\n",
    "            results.append('Português')\n",
    "            \n",
    "        else:\n",
    "            results.append('English')   \n",
    "        \n",
    "        df_results = pd.DataFrame(columns = ['Text', 'Predict'], data = zip([data], results) )\n",
    "        print(list(zip(data, results)))\n",
    "    return df_results\n",
    "\n",
    "language_classifier('Eu sou o cara mais lindo desse planeta')"
   ]
  }
 ],
 "metadata": {
  "language_info": {
   "name": "python"
  },
  "orig_nbformat": 4
 },
 "nbformat": 4,
 "nbformat_minor": 2
}
